{
 "cells": [
  {
   "cell_type": "code",
   "execution_count": 2,
   "metadata": {},
   "outputs": [],
   "source": [
    "import numpy as np\n",
    "import pandas as pd"
   ]
  },
  {
   "cell_type": "code",
   "execution_count": 1,
   "metadata": {},
   "outputs": [],
   "source": [
    "estimate = [13,1,2,5,13,13,3,13,13,1,20,3,8,8,3,3,1,3,5,5,3,20,2,1,2,20,5,20,2,20,3,5,3,2,2,]"
   ]
  },
  {
   "cell_type": "code",
   "execution_count": 3,
   "metadata": {},
   "outputs": [],
   "source": [
    "done = [1,1,1,1,1,1,1,1,1,1,0,1,1,1,1,1,0,1,1,1,1,1,1,0,1,0,1,0,1,1,1,1,1,0,1,]"
   ]
  },
  {
   "cell_type": "code",
   "execution_count": 4,
   "metadata": {},
   "outputs": [],
   "source": [
    "delivered = ['05 July 2023','06 July 2023','08 July 2023','06 July 2023','27 June 2023','07 July 2023','09 July 2023','07 July 2023','04 July 2023','28 June 2023','01 July 2023','07 July 2023','02 July 2023','29 June 2023','05 July 2023','29 June 2023','05 July 2023','09 July 2023','05 July 2023','26 June 2023','29 June 2023','04 July 2023','07 July 2023','08 July 2023','29 June 2023','03 July 2023','27 June 2023','06 July 2023','08 July 2023','06 July 2023','06 July 2023','03 July 2023','04 July 2023','05 July 2023','09 July 2023',]"
   ]
  },
  {
   "cell_type": "code",
   "execution_count": null,
   "metadata": {},
   "outputs": [],
   "source": []
  }
 ],
 "metadata": {
  "kernelspec": {
   "display_name": "Python 3",
   "language": "python",
   "name": "python3"
  },
  "language_info": {
   "codemirror_mode": {
    "name": "ipython",
    "version": 3
   },
   "file_extension": ".py",
   "mimetype": "text/x-python",
   "name": "python",
   "nbconvert_exporter": "python",
   "pygments_lexer": "ipython3",
   "version": "3.9.6"
  }
 },
 "nbformat": 4,
 "nbformat_minor": 2
}
